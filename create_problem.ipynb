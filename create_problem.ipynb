{
 "cells": [
  {
   "cell_type": "code",
   "execution_count": 2,
   "id": "6228e272",
   "metadata": {},
   "outputs": [],
   "source": [
    "import numpy as np\n",
    "import matplotlib.pyplot as plt"
   ]
  },
  {
   "cell_type": "code",
   "execution_count": 3,
   "id": "998d1a12",
   "metadata": {},
   "outputs": [],
   "source": [
    "# Define parameters for known dataset \n",
    "# NOTE - should there be multiple parameters?! ie: A_n, B_n, and then C with noise\n",
    "A = 1.0\n",
    "B = 0.5\n",
    "C = 0.1\n",
    "\n",
    "# Define wave number\n",
    "k= 2 * np.pi\n",
    "l = 2 * np.pi\n",
    "\n",
    "# Define frequency\n",
    "omega = 2 * np.pi"
   ]
  },
  {
   "cell_type": "code",
   "execution_count": null,
   "id": "71b7ea90",
   "metadata": {},
   "outputs": [],
   "source": [
    "# Define arrays\n",
    "size = 1.0\n",
    "tsteps = 10\n",
    "dx = 0.1\n",
    "dy = 0.1\n",
    "dt = 0.1\n",
    "\n",
    "x = np.linspace(0, dx, size)\n",
    "y = np.linspace(0, dy, size)\n",
    "t = np.linspace(0, dt, tsteps)\n",
    "\n",
    "# Create grid\n",
    "X, Y, T = np.meshgrid(x, y, t, indexing = 'ij') # NOTE matrix indexing\n",
    "\n",
    "\n"
   ]
  },
  {
   "cell_type": "code",
   "execution_count": null,
   "id": "b063e467",
   "metadata": {},
   "outputs": [],
   "source": []
  }
 ],
 "metadata": {
  "kernelspec": {
   "display_name": "seaice",
   "language": "python",
   "name": "python3"
  },
  "language_info": {
   "codemirror_mode": {
    "name": "ipython",
    "version": 3
   },
   "file_extension": ".py",
   "mimetype": "text/x-python",
   "name": "python",
   "nbconvert_exporter": "python",
   "pygments_lexer": "ipython3",
   "version": "3.12.1"
  }
 },
 "nbformat": 4,
 "nbformat_minor": 5
}
