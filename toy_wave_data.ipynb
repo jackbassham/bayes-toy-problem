{
 "cells": [
  {
   "cell_type": "code",
   "execution_count": 1,
   "id": "5ccaeaf8",
   "metadata": {},
   "outputs": [],
   "source": [
    "import numpy as np\n",
    "import matplotlib.pyplot as plt"
   ]
  },
  {
   "cell_type": "code",
   "execution_count": 2,
   "id": "ea480f3a",
   "metadata": {},
   "outputs": [],
   "source": [
    "# Set up the grid\n",
    "spatial_size = 64 # Power of 2 ideal for CNN\n",
    "dx = 0.1\n",
    "dy = 0.1\n",
    "\n",
    "time_steps = 10 # For now\n",
    "dt = 1"
   ]
  },
  {
   "cell_type": "code",
   "execution_count": 3,
   "id": "f60f4dfa",
   "metadata": {},
   "outputs": [],
   "source": [
    "# Create arrays for the grid\n",
    "x = np.arange(0, spatial_size + dx, dx)\n",
    "y = np.arange(0, spatial_size + dy, dy)\n",
    "t = np.arange(0, time_steps + dt, dt)\n",
    "\n",
    "# Create the grid\n",
    "X, Y, T = np.meshgrid(x, y, t, indexing = 'ij') # matrix (row forward) indexing"
   ]
  },
  {
   "cell_type": "code",
   "execution_count": null,
   "id": "08c383a2",
   "metadata": {},
   "outputs": [],
   "source": [
    "# Set the wave equation parameters\n",
    "# NOTE T = 2pi / omega, lambda = 2pi / k\n",
    "\n",
    "k = 2 * np.pi # wave number (num rad per unit distance)\n",
    "l = 2 * np.pi # wave number (num rad per unit distance)\n",
    "omega = 2 * np.pi # frequency (num rad per time)"
   ]
  },
  {
   "cell_type": "code",
   "execution_count": null,
   "id": "ea9a3fe1",
   "metadata": {},
   "outputs": [],
   "source": [
    "# Initialize the random number generator\n",
    "rng = np.random.default_rng(seed = 42)"
   ]
  },
  {
   "cell_type": "code",
   "execution_count": null,
   "id": "a5d6d7ad",
   "metadata": {},
   "outputs": [],
   "source": [
    "def generate_wave_data(n_samples, C):\n",
    "    \"\"\"\n",
    "    Generates a defined number of toy wave 'image' data for a 2D wave propagating in \n",
    "    time following the wave equation:\n",
    "\n",
    "            wave = (A_n)sin(kx + ly + omegat) + (B_n)cos(kx + ly + omegat) + C * eta\n",
    "    \n",
    "    The data are intended for a regression problem where inputs A_n and B_n are fit to the target wave\n",
    "    data by a CNN model under chosen levels of noise. A_n and B_n are varied accross samples by a random \n",
    "    number generator. eta is random noise controlled by the given constant C.\n",
    "    \n",
    "    Inputs:\n",
    "        - n_samples: number of samples to be generated\n",
    "        - C: constant for noise parameter in wave equation\n",
    "    \n",
    "    \"\"\"\n",
    "\n",
    "    # Initialize lists for true and input data samples\n",
    "    waves = []\n",
    "    inputs = []\n",
    "\n",
    "    # Loop through number of samples to generate wave sample properties\n",
    "    for _ in range(n_samples):\n",
    "        # Randomly generate A and B for each wave \n",
    "        A = rng.uniform(0.5, 2.0)\n",
    "        B = rng.uniform(0.1, 1.0)\n",
    "    \n",
    "        # Randomly generate noise consistent with [x,y,t] grid shape\n",
    "        eta = rng.standard_normal(X.shape)\n",
    "\n",
    "        # Compute the true wave sample for the generated properties\n",
    "        wave = A*np.sin(k*X + l*Y + omega*T) + B*np.cos(k*x + l*Y + omega*T) + C*eta\n",
    "\n",
    "        # Append sample true data and inputs to lists\n",
    "        waves.apend(wave)\n",
    "        inputs.apend([A,B])\n",
    "\n"
   ]
  }
 ],
 "metadata": {
  "kernelspec": {
   "display_name": "seaice",
   "language": "python",
   "name": "python3"
  },
  "language_info": {
   "codemirror_mode": {
    "name": "ipython",
    "version": 3
   },
   "file_extension": ".py",
   "mimetype": "text/x-python",
   "name": "python",
   "nbconvert_exporter": "python",
   "pygments_lexer": "ipython3",
   "version": "3.12.1"
  }
 },
 "nbformat": 4,
 "nbformat_minor": 5
}
